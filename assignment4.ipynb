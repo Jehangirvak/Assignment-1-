{
 "cells": [
  {
   "cell_type": "code",
   "execution_count": 1,
   "metadata": {},
   "outputs": [
    {
     "name": "stdout",
     "output_type": "stream",
     "text": [
      "Jehangir\n",
      "Vakil\n",
      "19\n",
      "Karachi\n",
      "Intermediate\n",
      "University\n"
     ]
    }
   ],
   "source": [
    "#question1\n",
    "dicn={\"firstname\":\"Jehangir\",\"lastname\":\"Vakil\",\"age\":19,\"city\":\"Karachi\"}\n",
    "for i in list(dicn.keys( )):\n",
    "    print(dicn[i])\n",
    "dicn[\"qual\"]=\"Intermediate\"\n",
    "print(dicn[\"qual\"])\n",
    "dicn.update(qual=\"University\")\n",
    "print(dicn[\"qual\"])\n",
    "del dicn[\"qual\"]\n"
   ]
  },
  {
   "cell_type": "code",
   "execution_count": 5,
   "metadata": {},
   "outputs": [
    {
     "name": "stdout",
     "output_type": "stream",
     "text": [
      "The country is Pakistan Population is 14.9million The fact is Quaid's Mazar\n",
      "The country is India Population is 5897 The fact is Zoroastrian Atash Behram\n"
     ]
    }
   ],
   "source": [
    "#question2\n",
    "d1={\"country\":\"Pakistan\", \"population\":\"14.9million\",\"info\":\"Quaid's Mazar\"}\n",
    "d2={\"country\":\"India\", \"population\":5897,\"info\":\"Zoroastrian Atash Behram\"}\n",
    "cities={\"Karachi\":d1,\"Udvada/Gujrat\":d2}\n",
    "for info in list(cities.keys( )):\n",
    "    city=cities[info]\n",
    "    print(\"The country is\",city[\"country\"],\"Population is\",city[\"population\"],\"The fact is\",city[\"info\"])"
   ]
  },
  {
   "cell_type": "code",
   "execution_count": 6,
   "metadata": {},
   "outputs": [
    {
     "name": "stdout",
     "output_type": "stream",
     "text": [
      "Enter number of people: 3\n",
      "Enter your age: 11\n",
      "the ticket is $10\n",
      "Enter your age: 2\n",
      "the ticket  is free of cost\n",
      "Enter your age: 32\n",
      "the ticket is $15\n"
     ]
    }
   ],
   "source": [
    "#question3\n",
    "people=int(input(\"Enter number of people: \"))\n",
    "for x in range(people):\n",
    "    #assuming age given can be only positive\n",
    "    age=int(input(\"Enter your age: \"))\n",
    "    if age<3:\n",
    "        print(\"the ticket  is free of cost\")\n",
    "    elif age>=3 and age<=12:\n",
    "        print(\"the ticket is $10\")\n",
    "    else:\n",
    "        print(\"the ticket is $15\")"
   ]
  },
  {
   "cell_type": "code",
   "execution_count": 8,
   "metadata": {},
   "outputs": [
    {
     "name": "stdout",
     "output_type": "stream",
     "text": [
      "The name of my favourite book is: The DaVinci Code\n"
     ]
    }
   ],
   "source": [
    "#question4\n",
    "def favorite_book(title):\n",
    "    print(\"The name of my favourite book is:\",title )\n",
    "favorite_book(\"The DaVinci Code\")"
   ]
  },
  {
   "cell_type": "code",
   "execution_count": 9,
   "metadata": {},
   "outputs": [
    {
     "name": "stdout",
     "output_type": "stream",
     "text": [
      "Guess a number between 1-30: 23\n",
      "You're too high.\n",
      "You have 2 chances left\n",
      "\n",
      "Try a lower number: 15\n",
      "You're too low.\n",
      "You have 1 chances left\n",
      "\n",
      "Try a higher number: 20\n",
      "You're out of chances. The number was: 21\n"
     ]
    }
   ],
   "source": [
    "#question5\n",
    "import random\n",
    "n = random.randint (1,30)\n",
    "chances = 2\n",
    "guess = int(input(\"Guess a number between 1-30: \"))\n",
    "while n != guess:\n",
    "    if chances == 0:\n",
    "        print (\"You're out of chances. The number was:\",n)\n",
    "        break\n",
    "    if guess < n:\n",
    "        print (\"You're too low.\")\n",
    "        print (\"You have\", chances, \"chances left\")\n",
    "        print ()\n",
    "        guess = int (input(\"Try a higher number: \"))\n",
    "    elif guess > n:\n",
    "        print (\"You're too high.\")\n",
    "        print (\"You have\", chances, \"chances left\")\n",
    "        print ()\n",
    "        guess = int(input(\"Try a lower number: \"))\n",
    "    chances = chances -1\n",
    "else:\n",
    "    print (\"Congrats! You guessed the number.\")\n",
    "    \n"
   ]
  },
  {
   "cell_type": "code",
   "execution_count": null,
   "metadata": {},
   "outputs": [],
   "source": []
  }
 ],
 "metadata": {
  "kernelspec": {
   "display_name": "Python 3",
   "language": "python",
   "name": "python3"
  },
  "language_info": {
   "codemirror_mode": {
    "name": "ipython",
    "version": 3
   },
   "file_extension": ".py",
   "mimetype": "text/x-python",
   "name": "python",
   "nbconvert_exporter": "python",
   "pygments_lexer": "ipython3",
   "version": "3.7.4"
  }
 },
 "nbformat": 4,
 "nbformat_minor": 2
}
