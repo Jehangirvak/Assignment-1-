{
 "cells": [
  {
   "cell_type": "code",
   "execution_count": 1,
   "metadata": {},
   "outputs": [
    {
     "name": "stdout",
     "output_type": "stream",
     "text": [
      "Enter marks: 85\n",
      "Enter marks: 75\n",
      "Enter marks: 65\n",
      "Enter marks: 55\n",
      "Enter marks: 45\n",
      "325\n",
      "Grade A+\n",
      "Grade A\n",
      "Grade B\n",
      "Grade C\n",
      "Failed\n"
     ]
    }
   ],
   "source": [
    "#ques1\n",
    "total=0\n",
    "marks=[]\n",
    "for x in range (5):\n",
    "  a=int(input(\"Enter marks: \"))\n",
    "  total+=a\n",
    "  marks.append(a)\n",
    "print (total)\n",
    "for x in marks:\n",
    "  if x>=80 and x <100: \n",
    "    print (\"Grade A+\")\n",
    "  elif x>=70 and x <80:\n",
    "    print (\"Grade A\") \n",
    "  elif x>=60 and x <70:\n",
    "    print (\"Grade B\")\n",
    "  elif x>=55 and x <65:\n",
    "    print (\"Grade C\")\n",
    "  elif x>=50 and x <55:\n",
    "    print (\"Grade D\")\n",
    "  else:\n",
    "    print (\"Failed\")\n",
    "  "
   ]
  },
  {
   "cell_type": "code",
   "execution_count": 2,
   "metadata": {},
   "outputs": [
    {
     "name": "stdout",
     "output_type": "stream",
     "text": [
      "Enter a number: 34\n",
      "The number is even\n"
     ]
    }
   ],
   "source": [
    "#ques2\n",
    "a=int(input(\"Enter a number: \"))\n",
    "if a%2==0:\n",
    "  print(\"The number is even\")\n",
    "else:\n",
    "  print (\"The number is odd\")\n"
   ]
  },
  {
   "cell_type": "code",
   "execution_count": 3,
   "metadata": {},
   "outputs": [
    {
     "name": "stdout",
     "output_type": "stream",
     "text": [
      "10\n"
     ]
    }
   ],
   "source": [
    "#ques3\n",
    "a=[1,2,3,4,5,6,7,8,9,10]\n",
    "count=0\n",
    "for x in a:\n",
    "  count+=1\n",
    "print (count)\n"
   ]
  },
  {
   "cell_type": "code",
   "execution_count": 4,
   "metadata": {},
   "outputs": [
    {
     "name": "stdout",
     "output_type": "stream",
     "text": [
      "77\n"
     ]
    }
   ],
   "source": [
    "#ques4\n",
    "a=[1,2,3,4,5,6,7,\"a\",8,6,\"b\",23,12,\"okay\"]\n",
    "b=0\n",
    "for x in a:\n",
    "  if type(x)== int:\n",
    "    b+=x\n",
    "print (b)\n",
    "\n"
   ]
  },
  {
   "cell_type": "code",
   "execution_count": 5,
   "metadata": {},
   "outputs": [
    {
     "name": "stdout",
     "output_type": "stream",
     "text": [
      "99\n"
     ]
    }
   ],
   "source": [
    "#ques5\n",
    "list1=[1,2,3,4,34,4,65,21,99,34,12,32,78]\n",
    "max=list1[1]\n",
    "for a in list1:\n",
    "  if a > max:\n",
    "    max = a\n",
    "print(max)\n"
   ]
  },
  {
   "cell_type": "code",
   "execution_count": 7,
   "metadata": {},
   "outputs": [
    {
     "name": "stdout",
     "output_type": "stream",
     "text": [
      "1\n",
      "1\n",
      "2\n",
      "3\n"
     ]
    }
   ],
   "source": [
    "#ques6\n",
    "a = [1, 1, 2, 3, 5, 8, 13, 21, 34, 55, 89]\n",
    "for x in a:\n",
    "  if x<5:\n",
    "    print(x)\n"
   ]
  },
  {
   "cell_type": "code",
   "execution_count": null,
   "metadata": {},
   "outputs": [],
   "source": []
  }
 ],
 "metadata": {
  "kernelspec": {
   "display_name": "Python 3",
   "language": "python",
   "name": "python3"
  },
  "language_info": {
   "codemirror_mode": {
    "name": "ipython",
    "version": 3
   },
   "file_extension": ".py",
   "mimetype": "text/x-python",
   "name": "python",
   "nbconvert_exporter": "python",
   "pygments_lexer": "ipython3",
   "version": "3.7.4"
  }
 },
 "nbformat": 4,
 "nbformat_minor": 2
}
