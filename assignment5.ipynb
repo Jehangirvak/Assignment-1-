{
 "cells": [
  {
   "cell_type": "code",
   "execution_count": 1,
   "metadata": {},
   "outputs": [
    {
     "name": "stdout",
     "output_type": "stream",
     "text": [
      "Enter the number: 4\n",
      "24\n"
     ]
    }
   ],
   "source": [
    "#ques1\n",
    "def factorial(num):\n",
    "  assert num=>0,\"only positive numbers\"\n",
    "  factorial=1\n",
    "  for i in range(1,num+1): \n",
    "    factorial = factorial * i \n",
    "  return factorial\n",
    "inp=int(input(\"Enter the number: \"))\n",
    "print(factorial(inp))"
   ]
  },
  {
   "cell_type": "code",
   "execution_count": 2,
   "metadata": {},
   "outputs": [
    {
     "name": "stdout",
     "output_type": "stream",
     "text": [
      "Enter string: THIS is test\n",
      "(4, 'letters are capital', 6, 'letters are small')\n"
     ]
    }
   ],
   "source": [
    "#ques2\n",
    "def case(string):\n",
    "  upper=0\n",
    "  lower=0\n",
    "  for x in string:\n",
    "    if x.isupper():\n",
    "      upper+=1\n",
    "    elif x.islower():\n",
    "      lower+=1\n",
    "  return upper,\"letters are capital\", lower,\"letters are small\"\n",
    "\n",
    "inp=input(\"Enter string: \")\n",
    "print(case(inp))\n"
   ]
  },
  {
   "cell_type": "code",
   "execution_count": 3,
   "metadata": {},
   "outputs": [
    {
     "name": "stdout",
     "output_type": "stream",
     "text": [
      "Enter the number of elements in list: 6\n",
      "Enter the number: 1\n",
      "Enter the number: 2\n",
      "Enter the number: 3\n",
      "Enter the number: 4\n",
      "Enter the number: 5\n",
      "Enter the number: 6\n",
      "2\n",
      "4\n",
      "6\n"
     ]
    }
   ],
   "source": [
    "#ques3\n",
    "def even(lis):\n",
    "  for x in lis:\n",
    "    if x %2==0:\n",
    "      print (x,sep=',')\n",
    "\n",
    "inp=int(input(\"Enter the number of elements in list: \"))\n",
    "l=[]\n",
    "while inp:\n",
    "  a=int(input(\"Enter the number: \"))\n",
    "  l.append(a)\n",
    "  inp-=1\n",
    "even(l)\n"
   ]
  },
  {
   "cell_type": "code",
   "execution_count": 4,
   "metadata": {},
   "outputs": [
    {
     "name": "stdout",
     "output_type": "stream",
     "text": [
      "Enter string: madam\n",
      "This is a palindrome\n"
     ]
    }
   ],
   "source": [
    "#ques4\n",
    "def palindrome(palin):\n",
    "  palin=palin.lower()\n",
    "  z = palin[::-1]\n",
    "  if z == palin:\n",
    "      print (\"This is a palindrome\")\n",
    "  else:\n",
    "      print (\"Not a palindrome\")\n",
    "inp=input(\"Enter string: \")\n",
    "palindrome(inp)\n"
   ]
  },
  {
   "cell_type": "code",
   "execution_count": 6,
   "metadata": {},
   "outputs": [
    {
     "name": "stdout",
     "output_type": "stream",
     "text": [
      "Enter the number: 43\n",
      "43 is a prime number\n"
     ]
    }
   ],
   "source": [
    "#ques5\n",
    "def prime(num):\n",
    "  if num > 1:  \n",
    "   for i in range(2,num):  \n",
    "       if (num % i) == 0:  \n",
    "           print(num,\"is not a prime number\")  \n",
    "           print(i,\"times\",num//i,\"is\",num)  \n",
    "           break  \n",
    "   else:  \n",
    "       print(num,\"is a prime number\")  \n",
    "          \n",
    "  else:  \n",
    "    print(num,\"is not a prime number\")\n",
    "inp=int(input(\"Enter the number: \"))\n",
    "prime(inp)"
   ]
  },
  {
   "cell_type": "code",
   "execution_count": 8,
   "metadata": {},
   "outputs": [
    {
     "name": "stdout",
     "output_type": "stream",
     "text": [
      "bag\n",
      "shirt\n",
      "soap\n",
      "apples\n",
      "books\n",
      "shoes\n"
     ]
    }
   ],
   "source": [
    "#ques6\n",
    "def shopping_list(*args):\n",
    "  #print (args)\n",
    "    for x in args:\n",
    "        print (x)\n",
    "shopping_list(\"bag\",\"shirt\",\"soap\",\"apples\",\"books\",\"shoes\")\n"
   ]
  },
  {
   "cell_type": "code",
   "execution_count": null,
   "metadata": {},
   "outputs": [],
   "source": []
  }
 ],
 "metadata": {
  "kernelspec": {
   "display_name": "Python 3",
   "language": "python",
   "name": "python3"
  },
  "language_info": {
   "codemirror_mode": {
    "name": "ipython",
    "version": 3
   },
   "file_extension": ".py",
   "mimetype": "text/x-python",
   "name": "python",
   "nbconvert_exporter": "python",
   "pygments_lexer": "ipython3",
   "version": "3.7.4"
  }
 },
 "nbformat": 4,
 "nbformat_minor": 2
}
