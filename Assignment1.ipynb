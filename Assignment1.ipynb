{
 "cells": [
  {
   "cell_type": "code",
   "execution_count": 1,
   "metadata": {},
   "outputs": [
    {
     "name": "stdout",
     "output_type": "stream",
     "text": [
      "Twinkle, twinkle, little star,\n",
      "\t How I wonder what you are!\n",
      "\t\tUp above the world so high,\n",
      "\t\tLike a diamond in the sky.\n",
      " Twinkle, twinkle, little star,\n",
      "\t How I wonder what you are\n"
     ]
    }
   ],
   "source": [
    "#ques1\n",
    "print (\"Twinkle, twinkle, little star,\\n\\t How I wonder what you are!\\n\\t\\tUp above the world so high,\\n\\t\\tLike a diamond in the sky.\\n Twinkle, twinkle, little star,\\n\\t How I wonder what you are\")\n"
   ]
  },
  {
   "cell_type": "code",
   "execution_count": 3,
   "metadata": {},
   "outputs": [
    {
     "name": "stdout",
     "output_type": "stream",
     "text": [
      "Python current version\n",
      "3.7.4 (default, Aug  9 2019, 18:34:13) [MSC v.1915 64 bit (AMD64)]\n",
      "Version information\n",
      "sys.version_info(major=3, minor=7, micro=4, releaselevel='final', serial=0)\n"
     ]
    }
   ],
   "source": [
    "#ques2\n",
    "import sys\n",
    "print(\"Python current version\")\n",
    "print (sys.version)\n",
    "print(\"Version information\")\n",
    "print (sys.version_info)\n"
   ]
  },
  {
   "cell_type": "code",
   "execution_count": 4,
   "metadata": {},
   "outputs": [
    {
     "name": "stdout",
     "output_type": "stream",
     "text": [
      "Current date and time:  2019-11-03 17:24:47.071003\n"
     ]
    }
   ],
   "source": [
    "#ques3\n",
    "import datetime\n",
    "print(\"Current date and time: \" , datetime.datetime.now())\n"
   ]
  },
  {
   "cell_type": "code",
   "execution_count": 5,
   "metadata": {},
   "outputs": [
    {
     "name": "stdout",
     "output_type": "stream",
     "text": [
      "Enter the raius of circle: 12\n",
      "The area is:  118.4352528130723\n"
     ]
    }
   ],
   "source": [
    "#ques4\n",
    "from math import pi\n",
    "radius=int(input(\"Enter the raius of circle: \"))\n",
    "print (\"The area is: \",radius*((pi)**2))\n"
   ]
  },
  {
   "cell_type": "code",
   "execution_count": 6,
   "metadata": {},
   "outputs": [
    {
     "name": "stdout",
     "output_type": "stream",
     "text": [
      "Enter your first name: Jehangir\n",
      "Enter your last name: Vakil\n",
      "Vakil Jehangir\n",
      "rignaheJ likaV\n"
     ]
    }
   ],
   "source": [
    "#ques5\n",
    "first_name=input(\"Enter your first name: \")\n",
    "last_name=input(\"Enter your last name: \")\n",
    "full_name=last_name+\" \"+first_name\n",
    "print(full_name)\n",
    "print (full_name[::-1])\n"
   ]
  },
  {
   "cell_type": "code",
   "execution_count": 7,
   "metadata": {},
   "outputs": [
    {
     "name": "stdout",
     "output_type": "stream",
     "text": [
      "Enter the number: 5\n",
      "Enter the number: 4\n",
      "9\n"
     ]
    }
   ],
   "source": [
    "#ques6\n",
    "num1=int(input(\"Enter the number: \"))\n",
    "num2=int(input(\"Enter the number: \"))\n",
    "print (num1+num2)\n"
   ]
  },
  {
   "cell_type": "code",
   "execution_count": null,
   "metadata": {},
   "outputs": [],
   "source": []
  }
 ],
 "metadata": {
  "kernelspec": {
   "display_name": "Python 3",
   "language": "python",
   "name": "python3"
  },
  "language_info": {
   "codemirror_mode": {
    "name": "ipython",
    "version": 3
   },
   "file_extension": ".py",
   "mimetype": "text/x-python",
   "name": "python",
   "nbconvert_exporter": "python",
   "pygments_lexer": "ipython3",
   "version": "3.7.4"
  }
 },
 "nbformat": 4,
 "nbformat_minor": 2
}
