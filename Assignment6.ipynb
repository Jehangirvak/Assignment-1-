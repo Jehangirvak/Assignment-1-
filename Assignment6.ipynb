{
 "cells": [
  {
   "cell_type": "code",
   "execution_count": 1,
   "metadata": {},
   "outputs": [],
   "source": [
    "#Question1\n",
    "#Object-oriented programming is a programming paradigm based on the concept of \"objects\", which can contain data, in the form of fields, and code, in the form of procedures. A feature of objects is an object's procedures that can access and often modify the data fields of the object with which they are associated.\n"
   ]
  },
  {
   "cell_type": "code",
   "execution_count": 2,
   "metadata": {},
   "outputs": [],
   "source": [
    "#Question 2\n",
    "#It provides a clear modular structure for programs which makes it good for defining abstract datatypes in which implementation details are hidden\n",
    "#Objects can also be reused within an across applications. The reuse of software also lowers the cost of development. More effort is put into the object-oriented analysis and design, which lowers the overall cost of development.\n",
    "#It makes software easier to maintain. Since the design is modular, part of the system can be updated in case of issues without a need to make large-scale changes\n",
    "#Reuse also enables faster development. Object-oriented programming languages come with rich libraries of objects, and code developed during projects is also reusable in future projects.\n",
    "#It provides a good framework for code libraries where the supplied software components can be easily adapted and modified by the programmer. This is particularly useful for developing graphical user interfaces.\n",
    "#Better Productivity as OOP techniques enforce rules on a programmer that, in the long run, help her get more work done; finished programs work better, have more features and are easier to read and maintain."
   ]
  },
  {
   "cell_type": "code",
   "execution_count": 3,
   "metadata": {},
   "outputs": [],
   "source": [
    "#Question 3\n",
    "\n",
    "#A function is a piece of code that is called by name. It can be passed data to operate on (i.e. the parameters) and can optionally return data (the return value). All data that is passed to a function is explicitly passed.\n",
    "\n",
    "#A method is a piece of code that is called by a name that is associated with an object. In most respects it is identical to a function except for two key differences:\n",
    "#A method is implicitly passed the object on which it was called.\n",
    "#A method is able to operate on data that is contained within the class (remembering that an object is an instance of a class - the class is the definition, the object is an instance of that data)."
   ]
  },
  {
   "cell_type": "code",
   "execution_count": 4,
   "metadata": {},
   "outputs": [],
   "source": [
    "#Question 4 \n",
    "\n",
    "#Class:\n",
    "#It is a user defined data type, which holds its own data members and member functions, which can be accessed and used by creating an instance of that class.\n",
    "\n",
    "#Object:\n",
    "#In object-oriented programming (OOP), objects are the things you think about first in designing a program and they are also the units of code that are eventually derived from the process. Each object is an instance of a particular class or subclass with the class's own methods or procedures and data variables.\n",
    "\n",
    "#Attribute:\n",
    "#In Object-oriented programming(OOP), classes and objects have attributes. Attributes are data stored inside a class or instance and represent the state or quality of the class or instance. In short, attributes store information about the instance.\n",
    "\n",
    "#Behaviour:\n",
    "#The behavior of an object is defined by its methods, which are the functions and subroutines defined within the object class. Without class methods, a class would simply be a structure. Methods determine what type of functionality a class has, how it modifies its data, and its overall behavior."
   ]
  },
  {
   "cell_type": "code",
   "execution_count": 5,
   "metadata": {},
   "outputs": [
    {
     "name": "stdout",
     "output_type": "stream",
     "text": [
      "The color of the car is: BLue\n",
      "The make of the car is: Honda\n",
      "The name of the car is: Civic\n",
      "The make of the car is: Faw\n",
      "The name of the car is: Swift\n"
     ]
    }
   ],
   "source": [
    "#Question 5\n",
    "class Car :\n",
    "  def __init__(self,make,color,name,engine,types): \n",
    "    self.make=make \n",
    "    self.color= color \n",
    "    self.name=name \n",
    "    self.engine=engine\n",
    "    self.types=types \n",
    "  \n",
    "  def print_Make(self):\n",
    "    print(\"The make of the car is:\",self.make)\n",
    "\n",
    "  def print_Color(self):\n",
    "    print(\"The color of the car is:\",self.color)\n",
    "\n",
    "  def print_Name(self):\n",
    "    print(\"The name of the car is:\",self.name)\n",
    "\n",
    "obj1=Car(\"Honda\", \"BLue\", \"Civic\", \"2400cc\",\"Automatic\")\n",
    "obj2=Car(\"Honda\", \"Red\", \"City\", \"3000cc\",\"Automatic\")\n",
    "obj3=Car(\"Suzuki\", \"White\", \"Civic\", \"700cc\",\"Manual\")\n",
    "obj4=Car(\"Faw\", \"Silver\", \"V2\", \"1800cc\",\"Manual\")\n",
    "obj5=Car(\"Suzuki\", \"Grey\", \"Swift\", \"1200cc\",\"Automatic\")\n",
    "obj1.print_Color()\n",
    "obj2.print_Make()\n",
    "obj3.print_Name()\n",
    "obj4.print_Make()\n",
    "obj5.print_Name()\n",
    "\n"
   ]
  },
  {
   "cell_type": "code",
   "execution_count": null,
   "metadata": {},
   "outputs": [],
   "source": []
  }
 ],
 "metadata": {
  "kernelspec": {
   "display_name": "Python 3",
   "language": "python",
   "name": "python3"
  },
  "language_info": {
   "codemirror_mode": {
    "name": "ipython",
    "version": 3
   },
   "file_extension": ".py",
   "mimetype": "text/x-python",
   "name": "python",
   "nbconvert_exporter": "python",
   "pygments_lexer": "ipython3",
   "version": "3.7.4"
  }
 },
 "nbformat": 4,
 "nbformat_minor": 4
}
